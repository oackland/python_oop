{
 "cells": [
  {
   "cell_type": "markdown",
   "metadata": {},
   "source": [
    "# Object-Oriented-Programming (OOP)"
   ]
  },
  {
   "cell_type": "markdown",
   "metadata": {},
   "source": [
    "## Tasks Today:\n",
    "\n",
    "   \n",
    "\n",
    "1) <b>Creating a Class (Initializing/Declaring)</b> <br>\n",
    "2) <b>Using a Class (Instantiating)</b> <br>\n",
    " &nbsp;&nbsp;&nbsp;&nbsp; a) Creating One Instance <br>\n",
    " &nbsp;&nbsp;&nbsp;&nbsp; b) Creating Multiple Instances <br>\n",
    " &nbsp;&nbsp;&nbsp;&nbsp; c) In-Class Exercise #1 - Create a Class 'Car' and instantiate three different makes of cars <br>\n",
    "3) <b>The \\__init\\__() Method</b> <br>\n",
    " &nbsp;&nbsp;&nbsp;&nbsp; a) The 'self' Attribute <br>\n",
    "4) <b>Class Attributes</b> <br>\n",
    " &nbsp;&nbsp;&nbsp;&nbsp; a) Initializing Attributes <br>\n",
    " &nbsp;&nbsp;&nbsp;&nbsp; b) Setting an Attribute Outside of the \\__init\\__() Method <br>\n",
    " &nbsp;&nbsp;&nbsp;&nbsp; c) Setting Defaults for Attributes <br>\n",
    " &nbsp;&nbsp;&nbsp;&nbsp; d) Accessing Class Attributes <br>\n",
    " &nbsp;&nbsp;&nbsp;&nbsp; e) Changing Class Attributes <br>\n",
    " &nbsp;&nbsp;&nbsp;&nbsp; f) In-Class Exercise #2 - Add a color and wheels attribute to your 'Car' class <br>\n",
    "5) <b>Class Methods</b> <br>\n",
    " &nbsp;&nbsp;&nbsp;&nbsp; a) Creating <br>\n",
    " &nbsp;&nbsp;&nbsp;&nbsp; b) Calling <br>\n",
    " &nbsp;&nbsp;&nbsp;&nbsp; c) Modifying an Attribute's Value Through a Method <br>\n",
    " &nbsp;&nbsp;&nbsp;&nbsp; d) Incrementing an Attribute's Value Through a Method <br>\n",
    " &nbsp;&nbsp;&nbsp;&nbsp; e) In-Class Exercise #3 - Add a method that prints the cars color and wheel number, then call them <br>\n",
    "6) <b>Inheritance</b> <br>\n",
    " &nbsp;&nbsp;&nbsp;&nbsp; a) Syntax for Inheriting from a Parent Class <br>\n",
    " &nbsp;&nbsp;&nbsp;&nbsp; b) The \\__init\\__() Method for a Child Class (super()) <br>\n",
    " &nbsp;&nbsp;&nbsp;&nbsp; c) Defining Attributes and Methods for the Child Class <br>\n",
    " &nbsp;&nbsp;&nbsp;&nbsp; d) Method Overriding <br>\n",
    " &nbsp;&nbsp;&nbsp;&nbsp; e) In-Class Exercise #4 - Create a class 'Ford' that inherits from 'Car' class and initialize it as a Blue Ford Explorer with 4 wheels using the super() method <br>\n",
    "7) <b>Classes as Attributes</b> <br>\n",
    "8) <b>Exercises</b> <br>\n",
    " &nbsp;&nbsp;&nbsp;&nbsp; a) Exercise #1 - Turn the shopping cart program from yesterday into an object-oriented program <br>"
   ]
  },
  {
   "cell_type": "markdown",
   "metadata": {},
   "source": [
    "## Creating a Class (Initializing/Declaring)\n",
    "<p>When creating a class, function, or even a variable you are initializing that object. Initializing and Declaring occur at the same time in Python, whereas in lower level languages you have to declare an object before initializing it. This is the first step in the process of using a class.</p>"
   ]
  },
  {
   "cell_type": "code",
   "execution_count": null,
   "metadata": {},
   "outputs": [],
   "source": [
    "class Car:\n",
    "\twheels = 4\n",
    "\tcolor = 'blue'"
   ]
  },
  {
   "cell_type": "markdown",
   "metadata": {},
   "source": [
    "## Using a Class (Instantiating)\n",
    "<p>The process of creating a class is called <i>Instantiating</i>. Each time you create a variable of that type of class, it is referred to as an <i>Instance</i> of that class. This is the second step in the process of using a class.</p>"
   ]
  },
  {
   "cell_type": "markdown",
   "source": [],
   "metadata": {
    "collapsed": false
   }
  },
  {
   "cell_type": "markdown",
   "metadata": {},
   "source": [
    "##### Creating One Instance"
   ]
  },
  {
   "cell_type": "code",
   "execution_count": null,
   "metadata": {},
   "outputs": [],
   "source": [
    "ford = Car()\n",
    "print(ford.color, ford.wheels)"
   ]
  },
  {
   "cell_type": "markdown",
   "metadata": {},
   "source": [
    "##### Creating Multiple Instances"
   ]
  },
  {
   "cell_type": "code",
   "execution_count": null,
   "metadata": {},
   "outputs": [],
   "source": [
    "nissan = Car()\n",
    "chevy = Car()\n",
    "\n",
    "print(nissan.color)"
   ]
  },
  {
   "cell_type": "markdown",
   "metadata": {},
   "source": [
    "##### In-Class Exercise #1 - Create a Class 'Car' and Instantiate three different makes of cars"
   ]
  },
  {
   "cell_type": "code",
   "execution_count": null,
   "metadata": {},
   "outputs": [],
   "source": []
  },
  {
   "cell_type": "markdown",
   "metadata": {},
   "source": [
    "## The \\__init\\__() Method <br>\n",
    "<p>This method is used in almost every created class, and called only once upon the creation of the class instance. This method will initialize all variables needed for the object.</p>"
   ]
  },
  {
   "cell_type": "code",
   "execution_count": 35,
   "metadata": {
    "ExecuteTime": {
     "end_time": "2023-08-21T09:08:34.740010800Z",
     "start_time": "2023-08-21T09:08:34.735498600Z"
    }
   },
   "outputs": [
    {
     "name": "stdout",
     "output_type": "stream",
     "text": [
      "Black\n",
      "White\n",
      "4\n",
      "4\n"
     ]
    }
   ],
   "source": [
    "class Car:\n",
    "\twheels = 4\n",
    "\n",
    "\tdef __init__(self, make, model, color, engine):\n",
    "\t\tself.make = make\n",
    "\t\tself.model = model\n",
    "\t\tself.color = color\n",
    "\t\tself.engine = engine\n",
    "\n",
    "\n",
    "#self is the current instance I am dealing with\n",
    "nissan = Car('Nissan', 'Altima', 'White', 'v4')\n",
    "\n",
    "ford = Car('Ford', 'Raptor', 'Black', 'v8')\n",
    "\n",
    "#accessing instance attributes\n",
    "print(ford.color)\n",
    "print(nissan.color)\n",
    "\n",
    "#accesing class attribrutes\n",
    "print(ford.wheels)\n",
    "print(nissan.wheels)"
   ]
  },
  {
   "cell_type": "markdown",
   "metadata": {},
   "source": [
    "##### The 'self' Attribute <br>\n",
    "<p>This attribute is required to keep track of specific instance's attributes. Without the self attribute, the program would not know how to reference or keep track of an instance's attributes.</p>"
   ]
  },
  {
   "cell_type": "code",
   "execution_count": null,
   "metadata": {},
   "outputs": [],
   "source": [
    "# see above"
   ]
  },
  {
   "cell_type": "markdown",
   "metadata": {},
   "source": [
    "## Class Attributes <br>\n",
    "<p>While variables are inside of a class, they are referred to as attributes and not variables. When someone says 'attribute' you know they're speaking about a class. Attributes can be initialized through the init method, or outside of it.</p>"
   ]
  },
  {
   "cell_type": "markdown",
   "metadata": {},
   "source": [
    "##### Initializing Attributes"
   ]
  },
  {
   "cell_type": "code",
   "execution_count": null,
   "metadata": {},
   "outputs": [],
   "source": [
    "# see above"
   ]
  },
  {
   "cell_type": "markdown",
   "metadata": {},
   "source": [
    "##### Accessing Class Attributes"
   ]
  },
  {
   "cell_type": "code",
   "execution_count": null,
   "metadata": {
    "scrolled": true
   },
   "outputs": [],
   "source": [
    "# See Above"
   ]
  },
  {
   "cell_type": "markdown",
   "metadata": {},
   "source": [
    "##### Setting Defaults for Attributes"
   ]
  },
  {
   "cell_type": "code",
   "execution_count": null,
   "metadata": {},
   "outputs": [],
   "source": [
    "class Vehicle:\n",
    "\n",
    "\tdef __init__(self, make, model, classification, wheels=4):\n",
    "\t\tself.make = make\n",
    "\t\tself.model = model\n",
    "\t\tself.classification = classification\n",
    "\t\tself.wheels = wheels\n",
    "\n",
    "\n",
    "my_car = Vehicle('Hyundai', 'Sonata', 'Sedan')\n",
    "print(my_car.wheels)\n",
    "\n",
    "motorcycle = Vehicle('Harley', 'Fat Bob', 'Motorcycle', 2)\n",
    "print(motorcycle.wheels)\n",
    "\n",
    "#changing and instance attribute\n",
    "my_car.classification = 'coupe'\n",
    "\n",
    "print(my_car.classification)"
   ]
  },
  {
   "attachments": {},
   "cell_type": "markdown",
   "metadata": {},
   "source": [
    "##### Changing Instance Attributes <br>\n",
    "<p>Keep in mind there are global class attributes and then there are attributes only available to each class instance which won't effect other classes.</p>"
   ]
  },
  {
   "cell_type": "code",
   "execution_count": null,
   "metadata": {},
   "outputs": [],
   "source": [
    "# see above"
   ]
  },
  {
   "cell_type": "markdown",
   "metadata": {},
   "source": [
    "##### In-Class Exercise #2 - Add a doors and seats attribute to your 'Car' class then print out two different instances with different doors and seats"
   ]
  },
  {
   "cell_type": "code",
   "execution_count": null,
   "metadata": {},
   "outputs": [],
   "source": [
    "class Car:\n",
    "    def __init__(self, make, model, doors, seats):\n",
    "        self.make = make\n",
    "        self.model = model\n",
    "        self.doors = doors\n",
    "        self.seats = seats\n",
    "\n",
    "    def __str__(self):\n",
    "        return f\"{self.make} {self.model} - Doors: {self.doors}, Seats: {self.seats}\"\n",
    "\n",
    "\n",
    "toyota = Car(\"Toyota\", \"Corolla\", 4, 5)\n",
    "nissan = Car(\"Honda\", \"Civic\", 2, 4)\n",
    "\n",
    "print(toyota)\n",
    "print(nissan)\n"
   ]
  },
  {
   "cell_type": "markdown",
   "metadata": {},
   "source": [
    "## Class Methods <br>\n",
    "<p>While inside of a class, functions are referred to as 'methods'. If you hear someone mention methods, they're speaking about classes. Methods are essentially functions, but only callable on the instances of a class.</p>"
   ]
  },
  {
   "cell_type": "markdown",
   "metadata": {},
   "source": [
    "##### Creating"
   ]
  },
  {
   "cell_type": "code",
   "execution_count": null,
   "metadata": {},
   "outputs": [],
   "source": [
    "class Person:\n",
    "\tspecies = 'human'\n",
    "\n",
    "\tdef __init__(self, name, age, eyecolor='Brown'):\n",
    "\t\tself.name = name\n",
    "\t\tself.age = age\n",
    "\t\tself.eyecolor = eyecolor\n",
    "\n",
    "\tdef get_info(self):\n",
    "\t\treturn f'Hi, my name is {self.name}. I am {self.age} years old and have {self.eyecolor} eyes.'\n",
    "\n",
    "\tdef namechange(self, new_name):\n",
    "\t\tself.name = new_name\n",
    "\t\tprint(f'You have changed your name to {self.name}.')\n",
    "\n",
    "\tdef birthday(self):\n",
    "\t\tself.age += 1\n",
    "\t\tprint(f'Happy Birthday! your\\'re {self.age}')\n",
    "\n",
    "\n",
    "me = Person('Dylan', 24)\n",
    "\n",
    "#using class methods\n",
    "print(me.get_info())\n",
    "\n",
    "#modifying instance attributes\n",
    "me.namechange('Hurricane')\n",
    "\n",
    "#incrementing instance attributes\n",
    "me.birthday()"
   ]
  },
  {
   "cell_type": "markdown",
   "metadata": {},
   "source": [
    "##### Calling"
   ]
  },
  {
   "cell_type": "code",
   "execution_count": null,
   "metadata": {},
   "outputs": [],
   "source": [
    "# See Above"
   ]
  },
  {
   "cell_type": "markdown",
   "metadata": {},
   "source": [
    "##### Modifying an Attribute's Value Through a Method"
   ]
  },
  {
   "cell_type": "code",
   "execution_count": null,
   "metadata": {},
   "outputs": [],
   "source": [
    "# see above\n"
   ]
  },
  {
   "cell_type": "markdown",
   "metadata": {},
   "source": [
    "##### Incrementing an Attribute's Value Through a Method"
   ]
  },
  {
   "cell_type": "code",
   "execution_count": null,
   "metadata": {},
   "outputs": [],
   "source": [
    "# see above\n"
   ]
  },
  {
   "cell_type": "markdown",
   "metadata": {},
   "source": [
    "## Inheritance <br>\n",
    "<p>You can create a child-parent relationship between two classes by using inheritance. What this allows you to do is have overriding methods, but also inherit traits from the parent class. Think of it as an actual parent and child, the child will inherit the parent's genes, as will the classes in OOP</p>"
   ]
  },
  {
   "cell_type": "markdown",
   "metadata": {},
   "source": [
    "##### Syntax for Inheriting from a Parent Class"
   ]
  },
  {
   "cell_type": "code",
   "execution_count": 37,
   "metadata": {
    "ExecuteTime": {
     "end_time": "2023-08-21T09:08:58.283636400Z",
     "start_time": "2023-08-21T09:08:58.279435600Z"
    }
   },
   "outputs": [
    {
     "name": "stdout",
     "output_type": "stream",
     "text": [
      "Hello, my name is Rhiannon, I'm a Blue Staffy (pittbull), and I have 4 legs.\n",
      "I love breathing air\n"
     ]
    }
   ],
   "source": [
    "def breath():\n",
    "\treturn 'I love breathing air'\n",
    "\n",
    "\n",
    "class Mammal:\n",
    "\tfur = True\n",
    "\n",
    "\tdef __init__(self, fur_color, species, legs=4):\n",
    "\t\tself.fur_color = fur_color\n",
    "\t\tself.species = species\n",
    "\t\tself.legs = legs\n",
    "\n",
    "\n",
    "class Dog(Mammal):\n",
    "\tdef __init__(self, name, breed, fur_color, legs=4):\n",
    "\t\tsuper().__init__(fur_color, legs)\n",
    "\t\tself.name = name\n",
    "\t\tself.breed = breed\n",
    "\n",
    "\tdef greet(self):\n",
    "\t\treturn f'Hello, my name is {self.name}, I\\'m a {self.fur_color} {self.breed}, and I have {self.legs} legs.'\n",
    "\n",
    "\n",
    "my_dog = Dog('Rhiannon', 'Staffy (pittbull)', 'Blue')\n",
    "\n",
    "print(my_dog.greet())\n",
    "\n",
    "print(breath())"
   ]
  },
  {
   "cell_type": "markdown",
   "metadata": {},
   "source": [
    "##### The \\__init\\__() Method for a Child Class - super()"
   ]
  },
  {
   "cell_type": "code",
   "execution_count": null,
   "metadata": {
    "scrolled": true
   },
   "outputs": [],
   "source": [
    "# see above"
   ]
  },
  {
   "cell_type": "markdown",
   "metadata": {},
   "source": [
    "##### Defining Attributes and Methods for the Child Class"
   ]
  },
  {
   "cell_type": "code",
   "execution_count": null,
   "metadata": {},
   "outputs": [],
   "source": [
    "# See Above"
   ]
  },
  {
   "cell_type": "markdown",
   "metadata": {},
   "source": [
    "# Exercises"
   ]
  },
  {
   "cell_type": "markdown",
   "metadata": {},
   "source": [
    "### Exercise 1 - Turn the shopping cart program from yesterday into an object-oriented program\n",
    "\n",
    "The comments in the cell below are there as a guide for thinking about the problem. However, if you feel a different way is best for you and your own thought process, please do what feels best for you by all means."
   ]
  },
  {
   "cell_type": "code",
   "execution_count": 39,
   "metadata": {
    "ExecuteTime": {
     "end_time": "2023-08-21T09:13:09.100942400Z",
     "start_time": "2023-08-21T09:11:57.524595900Z"
    }
   },
   "outputs": [
    {
     "name": "stdout",
     "output_type": "stream",
     "text": [
      "Welcome to the Coding Temple Cart! by Oackland Toro\n",
      "malta has been added to your cart\n",
      "The price of malta is $7\n",
      "carne has been added to your cart\n",
      "The price of carne is $19\n",
      "meaat has been added to your cart\n",
      "The price of meaat is $11\n",
      "\n",
      "Welcome to the Coding Temple Cart! by Oackland Toro\n",
      "Invalid category, please try again.\n",
      "\n",
      "Welcome to the Coding Temple Cart! by Oackland Toro\n",
      "mia has been added to your cart\n",
      "The price of mia is $2\n",
      "\n",
      "Welcome to the Coding Temple Cart! by Oackland Toro\n",
      "Your cart:\n",
      "Category: grocery\n",
      "Department: beer\n",
      "- malta\n",
      "Department: meat\n",
      "- carne\n",
      "Department: deli\n",
      "- meaat\n",
      "Category: jewelry\n",
      "Department: deli\n",
      "- mia\n",
      "\n",
      "Welcome to the Coding Temple Cart! by Oackland Toro\n",
      "malta has been removed from your cart\n",
      "\n",
      "Welcome to the Coding Temple Cart! by Oackland Toro\n",
      "Invalid action, please try again.\n",
      "\n",
      "Welcome to the Coding Temple Cart! by Oackland Toro\n",
      "Total price: $23\n",
      "Thank you for using the Coding Temple Cart!\n"
     ]
    }
   ],
   "source": [
    "import random\n",
    "\n",
    "\n",
    "def generate_price():\n",
    "\treturn random.randint(1, 20)\n",
    "\n",
    "\n",
    "class ShoppingCart:\n",
    "\tdef __init__(self):\n",
    "\t\tself.cart = {}\n",
    "\n",
    "\tdef add_item(self, my_category, my_department, my_product):\n",
    "\t\tif my_category not in self.cart:\n",
    "\t\t\tself.cart[my_category] = {}\n",
    "\t\tif my_department not in self.cart[my_category]:\n",
    "\t\t\tself.cart[my_category][my_department] = []\n",
    "\t\tself.cart[my_category][my_department].append(my_product)\n",
    "\t\tprint(f'{my_product} has been added to your cart')\n",
    "\n",
    "\tdef remove_item(self, the_category, the_department, the_product):\n",
    "\t\tif the_category in self.cart and the_department in self.cart[the_category]:\n",
    "\t\t\tif the_product in self.cart[the_category][the_department]:\n",
    "\t\t\t\tself.cart[the_category][the_department].remove(the_product)\n",
    "\t\t\t\tprint(f'{the_product} has been removed from your cart')\n",
    "\t\t\telse:\n",
    "\t\t\t\tprint(f'{the_product} is not in your cart')\n",
    "\t\telse:\n",
    "\t\t\tprint(f'No items in the {the_department} department of the {the_category} category')\n",
    "\n",
    "\tdef show_cart(self):\n",
    "\t\tif not self.cart:\n",
    "\t\t\tprint(\"Your cart is empty\")\n",
    "\t\t\treturn\n",
    "\t\tprint(\"Your cart:\")\n",
    "\t\tfor last_category, departments in self.cart.items():\n",
    "\t\t\tprint(f'Category: {last_category}')\n",
    "\t\t\tfor last_department, products in departments.items():\n",
    "\t\t\t\tprint(f'Department: {last_department}')\n",
    "\t\t\t\tfor last_product in products:\n",
    "\t\t\t\t\tprint(f'- {last_product}')\n",
    "\n",
    "\tdef calculate_total(self):\n",
    "\t\ttotal = 0\n",
    "\t\tfor departments in self.cart.values():\n",
    "\t\t\tfor products in departments.values():\n",
    "\t\t\t\ttotal += len(products) * generate_price()\n",
    "\t\treturn total\n",
    "\n",
    "\n",
    "# Create an instance of the ShoppingCart class\n",
    "my_cart = ShoppingCart()\n",
    "\n",
    "# Shopping loop\n",
    "'''markdown\n",
    "This piece gave me lot of trouble to sort by department, then i remembered that i can use its own lib\n",
    "'''\n",
    "while True:\n",
    "\tprint(\"Welcome to the Coding Temple Cart! by Oackland Toro\")\n",
    "\taction = input(\"What would you like to do? (add, remove, see) ( or 'quit'): \").lower()\n",
    "\tif action == 'quit':\n",
    "\t\tbreak\n",
    "\telif action == 'add':\n",
    "\t\tcategory = input(\"Which category would you like to explore? (grocery, jewelry, clothes): \").lower()\n",
    "\t\tif category in ['grocery', 'jewelry', 'clothes']:\n",
    "\t\t\twhile True:\n",
    "\t\t\t\tdepartment = input(\n",
    "\t\t\t\t\tf\"Which department would you like to visit in {category}? (beer, meat, deli) (type 'back' to go back): \").lower()\n",
    "\t\t\t\tif department == 'back':\n",
    "\t\t\t\t\tbreak\n",
    "\t\t\t\telif department in ['beer', 'meat', 'deli']:\n",
    "\t\t\t\t\tproduct = input(\"What product would you like to add? \")\n",
    "\t\t\t\t\tmy_cart.add_item(category, department, product)\n",
    "\t\t\t\t\tprice = generate_price()\n",
    "\t\t\t\t\tprint(f\"The price of {product} is ${price}\")\n",
    "\t\t\t\telse:\n",
    "\t\t\t\t\tprint(\"Invalid department, please try again.\")\n",
    "\t\telse:\n",
    "\t\t\tprint(\"Invalid category, please try again.\")\n",
    "\telif action == 'remove':\n",
    "\t\tcategory = input(\"Which category would you like to remove from? (grocery, jewelry, clothes): \").lower()\n",
    "\t\tif category in ['grocery', 'jewelry', 'clothes']:\n",
    "\t\t\twhile True:\n",
    "\t\t\t\tdepartment = input(\n",
    "\t\t\t\t\tf\"Which department would you like to remove from in {category}? (beer, meat, deli) (type 'back' to go back): \").lower()\n",
    "\t\t\t\tif department == 'back':\n",
    "\t\t\t\t\tbreak\n",
    "\t\t\t\telif department in ['beer', 'meat', 'deli']:\n",
    "\t\t\t\t\tproduct = input(\"What product would you like to remove? \")\n",
    "\t\t\t\t\tmy_cart.remove_item(category, department, product)\n",
    "\t\t\t\telse:\n",
    "\t\t\t\t\tprint(\"Invalid department, please try again.\")\n",
    "\t\telse:\n",
    "\t\t\tprint(\"Invalid category, please try again.\")\n",
    "\telif action == 'see':\n",
    "\t\tmy_cart.show_cart()\n",
    "\telse:\n",
    "\t\tprint(\"Invalid action, please try again.\")\n",
    "\n",
    "\tprint()\n",
    "\n",
    "# Calculate and display the total price\n",
    "total_price = my_cart.calculate_total()\n",
    "print(f\"Total price: ${total_price}\")\n",
    "\n",
    "print(\"Thank you for using the Coding Temple Cart!\")\n"
   ]
  },
  {
   "cell_type": "markdown",
   "metadata": {},
   "source": [
    "### Exercise 2 - Write a Python class which has two methods get_String and print_String. get_String accept a string from the user and print_String print the string in upper case"
   ]
  },
  {
   "cell_type": "code",
   "execution_count": 22,
   "metadata": {
    "ExecuteTime": {
     "end_time": "2023-08-21T08:55:52.046397800Z",
     "start_time": "2023-08-21T08:55:51.500086500Z"
    }
   },
   "outputs": [
    {
     "name": "stdout",
     "output_type": "stream",
     "text": [
      "BROO!, You need to type something to make this work\n"
     ]
    }
   ],
   "source": [
    "class two_method:\n",
    "\t'''\n",
    "\tfirst need to start the class with the famous init with the empty string\n",
    "\t'''\n",
    "\n",
    "\tdef __init__(self):\n",
    "\t\t'''\n",
    "        Initialize the class with an empty string.\n",
    "        '''\n",
    "\t\tself.input_string = \"\"\n",
    "\n",
    "\tdef get_input(self):\n",
    "\t\t'''\n",
    "        Prompt the user to input a string.\n",
    "        '''\n",
    "\t\tself.input_string = input(\"Please enter a string: \")\n",
    "\n",
    "\tdef print_uppercase(self):\n",
    "\t\t'''\n",
    "        Print the input string in uppercase if it's not empty.\n",
    "        Otherwise, display a message.\n",
    "        '''\n",
    "\t\tif self.input_string:\n",
    "\t\t\tprint(\"Uppercase version:\", self.input_string.upper())\n",
    "\t\telse:\n",
    "\t\t\tprint(\"You haven't entered a string yet.\")\n",
    "\n",
    "\tdef reverse_string(self):\n",
    "\t\t'''\n",
    "        Reverse the input string and print the result.\n",
    "        '''\n",
    "\t\tif self.input_string:\n",
    "\t\t\treversed_string = self.input_string[::-1]\n",
    "\t\t\tprint(\"Reversed version:\", reversed_string)\n",
    "\t\telse:\n",
    "\t\t\tprint(\"No string to reverse.\")\n",
    "\n",
    "\n",
    "# define the printed class\n",
    "print_method = two_method()\n",
    "\n",
    "# ask user\n",
    "print_method.get_input()\n",
    "\n",
    "while True:\n",
    "\n",
    "\tchoice = input(\"Enter your choice: (1) Uppercase, (2) Reverse, (3) Quit \")\n",
    "\n",
    "\tif choice == \"1\":\n",
    "\t\tprint_method.print_uppercase()\n",
    "\t\tbreak\n",
    "\telif choice == \"2\":\n",
    "\t\tprint_method.reverse_string()\n",
    "\t\tbreak\n",
    "\telif choice == \"3\":\n",
    "\t\tprint(\"Exiting.\")\n",
    "\t\tbreak\n",
    "\telse:\n",
    "\t\tprint(\"Invalid choice. Please choose again.\")\n"
   ]
  }
 ],
 "metadata": {
  "kernelspec": {
   "display_name": "Python 3",
   "language": "python",
   "name": "python3"
  },
  "language_info": {
   "codemirror_mode": {
    "name": "ipython",
    "version": 3
   },
   "file_extension": ".py",
   "mimetype": "text/x-python",
   "name": "python",
   "nbconvert_exporter": "python",
   "pygments_lexer": "ipython3",
   "version": "3.11.4"
  },
  "vscode": {
   "interpreter": {
    "hash": "aa82987a71ca0339a52998cd22613b0c002bda8349fa32a0cb67ceec3936a2bf"
   }
  }
 },
 "nbformat": 4,
 "nbformat_minor": 2
}
